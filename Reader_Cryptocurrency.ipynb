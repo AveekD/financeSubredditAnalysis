{
 "cells": [
  {
   "cell_type": "code",
   "execution_count": 34,
   "metadata": {},
   "outputs": [],
   "source": [
    "import pandas as pd\n",
    "import numpy as np\n",
    "import seaborn as sns\n",
    "\n",
    "import matplotlib.pyplot as plt\n",
    "\n",
    "posts_list = pd.read_pickle('comments_cryptocurrency.pkl')\n",
    "\n",
    "df = pd.DataFrame(posts_list)"
   ]
  },
  {
   "cell_type": "code",
   "execution_count": 35,
   "metadata": {},
   "outputs": [],
   "source": [
    "s = \"\"\n",
    "import nltk\n",
    "for x in df['body']:\n",
    "    s+=str(x) + '. '"
   ]
  },
  {
   "cell_type": "code",
   "execution_count": 36,
   "metadata": {},
   "outputs": [],
   "source": [
    "from nltk.tokenize import RegexpTokenizer\n",
    "from nltk.corpus import stopwords\n",
    "stop_words = stopwords.words('english')\n",
    "additional_stopwords = \"\"\"one get like r would think going com https reddit www people crypto wiki deleted removed\"\"\"\n",
    "stop_words += additional_stopwords.split()\n",
    "tokenizer = RegexpTokenizer(r'\\w+')\n",
    "filtered = tokenizer.tokenize(s)\n",
    "new_filtered = []\n",
    "for x in filtered:\n",
    "    if str(x).lower() not in stop_words:\n",
    "        new_filtered += [x]"
   ]
  },
  {
   "cell_type": "code",
   "execution_count": 37,
   "metadata": {
    "scrolled": false
   },
   "outputs": [
    {
     "data": {
      "text/plain": [
       "[('market', 21815),\n",
       " ('money', 19251),\n",
       " ('CryptoCurrency', 18278),\n",
       " ('time', 18163),\n",
       " ('BTC', 16531),\n",
       " ('coins', 16194),\n",
       " ('know', 15880),\n",
       " ('coin', 15742),\n",
       " ('see', 15596),\n",
       " ('buy', 15026),\n",
       " ('even', 14879),\n",
       " ('CryptoWikis', 14379),\n",
       " ('good', 14285),\n",
       " ('still', 13397),\n",
       " ('much', 13054),\n",
       " ('Bitcoin', 12976),\n",
       " ('make', 12966),\n",
       " ('use', 12954),\n",
       " ('right', 12616),\n",
       " ('price', 12280),\n",
       " ('really', 12160),\n",
       " ('go', 12133),\n",
       " ('gt', 12032),\n",
       " ('1', 11891),\n",
       " ('message', 11797),\n",
       " ('way', 11785),\n",
       " ('could', 11515),\n",
       " ('bitcoin', 11415),\n",
       " ('back', 11298),\n",
       " ('Please', 10859),\n",
       " ('want', 10853),\n",
       " ('need', 10687),\n",
       " ('amp', 10663),\n",
       " ('compose', 9909),\n",
       " ('post', 9632),\n",
       " ('2', 9408),\n",
       " ('bot', 9388),\n",
       " ('also', 9308),\n",
       " ('subreddit', 9231),\n",
       " ('new', 8940),\n",
       " ('say', 8882),\n",
       " ('sell', 8802),\n",
       " ('something', 8405),\n",
       " ('blockchain', 8364),\n",
       " ('questions', 8337),\n",
       " ('point', 8292),\n",
       " ('got', 8213),\n",
       " ('actually', 8113),\n",
       " ('lot', 8066),\n",
       " ('action', 8062),\n",
       " ('long', 8042),\n",
       " ('value', 8024),\n",
       " ('many', 7900),\n",
       " ('contact', 7890),\n",
       " ('well', 7811),\n",
       " ('moderators', 7768),\n",
       " ('concerns', 7755),\n",
       " ('automatically', 7752),\n",
       " ('year', 7676),\n",
       " ('sure', 7616),\n",
       " ('shit', 7509),\n",
       " ('performed', 7475),\n",
       " ('comments', 7351),\n",
       " ('day', 7347),\n",
       " ('thing', 7340),\n",
       " ('already', 7327),\n",
       " ('never', 7086),\n",
       " ('take', 7068),\n",
       " ('10', 6934),\n",
       " ('though', 6848),\n",
       " ('said', 6823),\n",
       " ('ETH', 6810),\n",
       " ('better', 6790),\n",
       " ('every', 6647),\n",
       " ('3', 6641),\n",
       " ('years', 6444),\n",
       " ('enough', 6416),\n",
       " ('look', 6406),\n",
       " ('big', 6394),\n",
       " ('lol', 6371),\n",
       " ('made', 6328),\n",
       " ('anything', 6282),\n",
       " ('real', 6257),\n",
       " ('first', 6194),\n",
       " ('http', 6128),\n",
       " ('project', 5996),\n",
       " ('mean', 5994),\n",
       " ('believe', 5993),\n",
       " ('around', 5894),\n",
       " ('last', 5891),\n",
       " ('news', 5880),\n",
       " ('5', 5857),\n",
       " ('work', 5844),\n",
       " ('bought', 5830),\n",
       " ('comment', 5813),\n",
       " ('things', 5800),\n",
       " ('world', 5799),\n",
       " ('exchange', 5778),\n",
       " ('since', 5706),\n",
       " ('months', 5625)]"
      ]
     },
     "execution_count": 37,
     "metadata": {},
     "output_type": "execute_result"
    }
   ],
   "source": [
    "from collections import Counter\n",
    "counts = Counter(new_filtered)\n",
    "counts.most_common(100)"
   ]
  },
  {
   "cell_type": "code",
   "execution_count": null,
   "metadata": {},
   "outputs": [],
   "source": []
  },
  {
   "cell_type": "code",
   "execution_count": null,
   "metadata": {
    "scrolled": false
   },
   "outputs": [],
   "source": []
  },
  {
   "cell_type": "code",
   "execution_count": null,
   "metadata": {},
   "outputs": [],
   "source": []
  },
  {
   "cell_type": "code",
   "execution_count": null,
   "metadata": {},
   "outputs": [],
   "source": []
  },
  {
   "cell_type": "code",
   "execution_count": null,
   "metadata": {},
   "outputs": [],
   "source": []
  }
 ],
 "metadata": {
  "kernelspec": {
   "display_name": "Python 3",
   "language": "python",
   "name": "python3"
  },
  "language_info": {
   "codemirror_mode": {
    "name": "ipython",
    "version": 3
   },
   "file_extension": ".py",
   "mimetype": "text/x-python",
   "name": "python",
   "nbconvert_exporter": "python",
   "pygments_lexer": "ipython3",
   "version": "3.7.4"
  }
 },
 "nbformat": 4,
 "nbformat_minor": 2
}
