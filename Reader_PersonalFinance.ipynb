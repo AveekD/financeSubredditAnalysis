{
 "cells": [
  {
   "cell_type": "code",
   "execution_count": 11,
   "metadata": {},
   "outputs": [],
   "source": [
    "import pandas as pd\n",
    "import numpy as np\n",
    "import seaborn as sns\n",
    "\n",
    "import matplotlib.pyplot as plt\n",
    "\n",
    "posts_list = pd.read_pickle('comments_personalfinance.pkl')\n",
    "\n",
    "df = pd.DataFrame(posts_list)"
   ]
  },
  {
   "cell_type": "code",
   "execution_count": 12,
   "metadata": {},
   "outputs": [
    {
     "data": {
      "text/plain": [
       "0        You may find these links helpful:\\n\\n- [401(k)...\n",
       "1        Yeah I have been over $1 million I'm debt, I d...\n",
       "2                                                [removed]\n",
       "3        &gt;  since many novices see rent &gt; mortgag...\n",
       "4        My wife and I saved for a down payment into or...\n",
       "                               ...                        \n",
       "19995    You are correct this is to auto filter out can...\n",
       "19996    Yes this guy knows whats up. On something like...\n",
       "19997    You may find these links helpful:\\n\\n- [Tax So...\n",
       "19998                 Unless its an American corporation. \n",
       "19999    Out of curiosity where are you seeing a 0% rat...\n",
       "Name: body, Length: 20000, dtype: object"
      ]
     },
     "execution_count": 12,
     "metadata": {},
     "output_type": "execute_result"
    }
   ],
   "source": [
    "df['body']"
   ]
  },
  {
   "cell_type": "code",
   "execution_count": 13,
   "metadata": {},
   "outputs": [],
   "source": [
    "s = \"\"\n",
    "import nltk\n",
    "\n",
    "for x in df['body']:\n",
    "    s+=str(x) + '. '"
   ]
  },
  {
   "cell_type": "code",
   "execution_count": 16,
   "metadata": {},
   "outputs": [],
   "source": [
    "from nltk.tokenize import RegexpTokenizer\n",
    "from nltk.corpus import stopwords\n",
    "stop_words = stopwords.words('english')\n",
    "additional_stopwords = \"\"\"personalfinance get like r\"\"\"\n",
    "stop_words += additional_stopwords.split()\n",
    "tokenizer = RegexpTokenizer(r'\\w+')\n",
    "filtered = tokenizer.tokenize(s)\n",
    "new_filtered = []\n",
    "for x in filtered:\n",
    "    if str(x).lower() not in stop_words:\n",
    "        new_filtered += [x]"
   ]
  },
  {
   "cell_type": "code",
   "execution_count": 17,
   "metadata": {},
   "outputs": [
    {
     "data": {
      "text/plain": [
       "[('money', 3507),\n",
       " ('would', 3297),\n",
       " ('pay', 3027),\n",
       " ('year', 2661),\n",
       " ('tax', 2269),\n",
       " ('make', 2077),\n",
       " ('much', 1979),\n",
       " ('people', 1969),\n",
       " ('one', 1872),\n",
       " ('time', 1869),\n",
       " ('years', 1856),\n",
       " ('income', 1807),\n",
       " ('need', 1784),\n",
       " ('credit', 1712),\n",
       " ('car', 1662),\n",
       " ('want', 1659),\n",
       " ('work', 1604),\n",
       " ('know', 1537),\n",
       " ('think', 1526),\n",
       " ('wiki', 1493),\n",
       " ('company', 1492),\n",
       " ('good', 1488),\n",
       " ('job', 1448),\n",
       " ('may', 1418),\n",
       " ('could', 1416),\n",
       " ('account', 1400),\n",
       " ('debt', 1385),\n",
       " ('go', 1368),\n",
       " ('going', 1340),\n",
       " ('taxes', 1330),\n",
       " ('removed', 1310),\n",
       " ('month', 1304),\n",
       " ('interest', 1280),\n",
       " ('401k', 1276),\n",
       " ('gt', 1270),\n",
       " ('new', 1230),\n",
       " ('also', 1225),\n",
       " ('take', 1215),\n",
       " ('2', 1205),\n",
       " ('1', 1200),\n",
       " ('really', 1192),\n",
       " ('5', 1169),\n",
       " ('find', 1163),\n",
       " ('even', 1163),\n",
       " ('way', 1135),\n",
       " ('3', 1102),\n",
       " ('still', 1073),\n",
       " ('paying', 1050),\n",
       " ('card', 1047),\n",
       " ('retirement', 1022),\n",
       " ('sure', 1013),\n",
       " ('put', 1003),\n",
       " ('loan', 1003),\n",
       " ('something', 1003),\n",
       " ('better', 1003),\n",
       " ('see', 983),\n",
       " ('IRA', 962),\n",
       " ('savings', 960),\n",
       " ('say', 954),\n",
       " ('fund', 948),\n",
       " ('use', 941),\n",
       " ('back', 940),\n",
       " ('paid', 926),\n",
       " ('first', 922),\n",
       " ('lot', 922),\n",
       " ('house', 910),\n",
       " ('right', 874),\n",
       " ('plan', 871),\n",
       " ('deleted', 847),\n",
       " ('amount', 837),\n",
       " ('rate', 835),\n",
       " ('well', 828),\n",
       " ('Roth', 812),\n",
       " ('probably', 809),\n",
       " ('less', 808),\n",
       " ('worth', 804),\n",
       " ('long', 801),\n",
       " ('buy', 791),\n",
       " ('might', 790),\n",
       " ('questions', 774),\n",
       " ('months', 772),\n",
       " ('www', 767),\n",
       " ('https', 755),\n",
       " ('things', 754),\n",
       " ('got', 749),\n",
       " ('someone', 745),\n",
       " ('market', 744),\n",
       " ('match', 741),\n",
       " ('4', 740),\n",
       " ('keep', 731),\n",
       " ('10', 727),\n",
       " ('enough', 723),\n",
       " ('payment', 719),\n",
       " ('000', 715),\n",
       " ('cash', 714),\n",
       " ('never', 699),\n",
       " ('every', 696),\n",
       " ('cost', 682),\n",
       " ('getting', 678),\n",
       " ('though', 677)]"
      ]
     },
     "execution_count": 17,
     "metadata": {},
     "output_type": "execute_result"
    }
   ],
   "source": [
    "from collections import Counter\n",
    "counts = Counter(new_filtered)\n",
    "counts.most_common(100)"
   ]
  },
  {
   "cell_type": "code",
   "execution_count": null,
   "metadata": {},
   "outputs": [],
   "source": []
  }
 ],
 "metadata": {
  "kernelspec": {
   "display_name": "Python 3",
   "language": "python",
   "name": "python3"
  },
  "language_info": {
   "codemirror_mode": {
    "name": "ipython",
    "version": 3
   },
   "file_extension": ".py",
   "mimetype": "text/x-python",
   "name": "python",
   "nbconvert_exporter": "python",
   "pygments_lexer": "ipython3",
   "version": "3.7.4"
  }
 },
 "nbformat": 4,
 "nbformat_minor": 2
}
