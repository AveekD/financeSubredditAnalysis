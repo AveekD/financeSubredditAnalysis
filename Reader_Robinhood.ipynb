{
 "cells": [
  {
   "cell_type": "code",
   "execution_count": 2,
   "metadata": {},
   "outputs": [],
   "source": [
    "import pandas as pd\n",
    "import numpy as np\n",
    "import seaborn as sns\n",
    "\n",
    "import matplotlib.pyplot as plt\n",
    "\n",
    "posts_list = pd.read_pickle('comments_robinhood.pkl')\n",
    "\n",
    "df = pd.DataFrame(posts_list)"
   ]
  },
  {
   "cell_type": "code",
   "execution_count": 3,
   "metadata": {},
   "outputs": [
    {
     "data": {
      "text/plain": [
       "0        You had to be on the sign up list. I have acce...\n",
       "1        Binance is now verified and in the AppStore. D...\n",
       "2        Me to, the news with Apple only using AMD chip...\n",
       "3        I'm feeling pretty good, honestly. I had a few...\n",
       "4                                                [deleted]\n",
       "                               ...                        \n",
       "12995    How much you withdraw from the app is not rele...\n",
       "12996                               Was it up at open?\\n\\n\n",
       "12997    If your entire income for 2017 was under a cer...\n",
       "12998                                      Visa hands down\n",
       "12999        Got a free stock and havent touched it since.\n",
       "Name: body, Length: 13000, dtype: object"
      ]
     },
     "execution_count": 3,
     "metadata": {},
     "output_type": "execute_result"
    }
   ],
   "source": [
    "df['body']"
   ]
  },
  {
   "cell_type": "code",
   "execution_count": 4,
   "metadata": {},
   "outputs": [],
   "source": [
    "s = \"\"\n",
    "import nltk\n",
    "\n",
    "for x in df['body']:\n",
    "    s+=str(x) + '. '"
   ]
  },
  {
   "cell_type": "code",
   "execution_count": 5,
   "metadata": {},
   "outputs": [],
   "source": [
    "from nltk.tokenize import RegexpTokenizer\n",
    "from nltk.corpus import stopwords\n",
    "stop_words = stopwords.words('english')\n",
    "additional_stopwords = \"\"\"one get like r would think going\"\"\"\n",
    "stop_words += additional_stopwords.split()\n",
    "tokenizer = RegexpTokenizer(r'\\w+')\n",
    "filtered = tokenizer.tokenize(s)\n",
    "new_filtered = []\n",
    "for x in filtered:\n",
    "    if str(x).lower() not in stop_words:\n",
    "        new_filtered += [x]"
   ]
  },
  {
   "cell_type": "code",
   "execution_count": 6,
   "metadata": {},
   "outputs": [
    {
     "data": {
      "text/plain": [
       "[('stock', 1094),\n",
       " ('buy', 1057),\n",
       " ('com', 995),\n",
       " ('https', 946),\n",
       " ('options', 928),\n",
       " ('money', 908),\n",
       " ('day', 862),\n",
       " ('price', 832),\n",
       " ('sell', 820),\n",
       " ('deleted', 772),\n",
       " ('market', 765),\n",
       " ('stocks', 733),\n",
       " ('1', 726),\n",
       " ('Robinhood', 673),\n",
       " ('good', 667),\n",
       " ('time', 663),\n",
       " ('shares', 659),\n",
       " ('account', 643),\n",
       " ('know', 592),\n",
       " ('2', 583),\n",
       " ('right', 556),\n",
       " ('trade', 555),\n",
       " ('3', 548),\n",
       " ('see', 543),\n",
       " ('got', 523),\n",
       " ('still', 517),\n",
       " ('trading', 514),\n",
       " ('5', 503),\n",
       " ('week', 502),\n",
       " ('back', 497),\n",
       " ('10', 495),\n",
       " ('today', 495),\n",
       " ('go', 489),\n",
       " ('long', 487),\n",
       " ('amp', 475),\n",
       " ('much', 469),\n",
       " ('option', 465),\n",
       " ('make', 464),\n",
       " ('year', 464),\n",
       " ('even', 457),\n",
       " ('RH', 446),\n",
       " ('want', 441),\n",
       " ('people', 430),\n",
       " ('buying', 422),\n",
       " ('removed', 411),\n",
       " ('bought', 406),\n",
       " ('really', 405),\n",
       " ('4', 399),\n",
       " ('way', 396),\n",
       " ('could', 396),\n",
       " ('put', 389),\n",
       " ('use', 382),\n",
       " ('need', 360),\n",
       " ('reddit', 360),\n",
       " ('well', 347),\n",
       " ('100', 345),\n",
       " ('call', 343),\n",
       " ('last', 337),\n",
       " ('since', 335),\n",
       " ('sure', 330),\n",
       " ('gt', 330),\n",
       " ('also', 321),\n",
       " ('share', 310),\n",
       " ('though', 294),\n",
       " ('cash', 293),\n",
       " ('first', 293),\n",
       " ('days', 292),\n",
       " ('term', 292),\n",
       " ('portfolio', 288),\n",
       " ('new', 287),\n",
       " ('0', 283),\n",
       " ('dividend', 282),\n",
       " ('lot', 278),\n",
       " ('20', 278),\n",
       " ('sold', 276),\n",
       " ('loss', 275),\n",
       " ('50', 273),\n",
       " ('take', 272),\n",
       " ('next', 269),\n",
       " ('www', 266),\n",
       " ('app', 262),\n",
       " ('high', 262),\n",
       " ('month', 259),\n",
       " ('calls', 256),\n",
       " ('something', 256),\n",
       " ('selling', 254),\n",
       " ('hold', 251),\n",
       " ('may', 250),\n",
       " ('pretty', 249),\n",
       " ('company', 248),\n",
       " ('contract', 246),\n",
       " ('better', 240),\n",
       " ('point', 240),\n",
       " ('might', 237),\n",
       " ('support', 237),\n",
       " ('made', 236),\n",
       " ('robinhood', 236),\n",
       " ('message', 234),\n",
       " ('holding', 232),\n",
       " ('value', 232)]"
      ]
     },
     "execution_count": 6,
     "metadata": {},
     "output_type": "execute_result"
    }
   ],
   "source": [
    "from collections import Counter\n",
    "counts = Counter(new_filtered)\n",
    "counts.most_common(100)"
   ]
  },
  {
   "cell_type": "code",
   "execution_count": null,
   "metadata": {},
   "outputs": [],
   "source": []
  }
 ],
 "metadata": {
  "kernelspec": {
   "display_name": "Python 3",
   "language": "python",
   "name": "python3"
  },
  "language_info": {
   "codemirror_mode": {
    "name": "ipython",
    "version": 3
   },
   "file_extension": ".py",
   "mimetype": "text/x-python",
   "name": "python",
   "nbconvert_exporter": "python",
   "pygments_lexer": "ipython3",
   "version": "3.7.4"
  }
 },
 "nbformat": 4,
 "nbformat_minor": 2
}
